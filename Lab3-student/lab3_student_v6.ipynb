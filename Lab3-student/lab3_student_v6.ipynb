{
 "cells": [
  {
   "cell_type": "markdown",
   "metadata": {
    "id": "fs1IGQZELwru"
   },
   "source": [
    "# LAB3 - Uczenie sieci neuronowych z wykorzystaniem GPU\n",
    "ver: 6"
   ]
  },
  {
   "cell_type": "markdown",
   "metadata": {
    "id": "yS56lpyELwry"
   },
   "source": [
    "Przedmiot: _Sztuczna Inteligencja w Systemach Informatycznych_\n",
    "\n",
    "Autor: Tomasz Szydło\n",
    "\n",
    "kontakt: tszydlo@agh.edu.pl"
   ]
  },
  {
   "cell_type": "markdown",
   "metadata": {
    "id": "AZ_S41L3Lwr6"
   },
   "source": [
    "Celem laboratorium jest porównanie czasu uczenia sieci neuronowych z wykorzystaniem CPU oraz GPU. Przedmiotem uczenia będzie sieć rozpoznająca cyfry pisane odręcznie. W procesie uczenia zostanie wykorzystany zbiór MNIST:\n",
    "\n",
    "http://yann.lecun.com/exdb/mnist/\n",
    "\n",
    "\n",
    "Laboratorium może być zrealizowane w dwóch środowiskach pracy:\n",
    " * Google Colab w chmurze obliczeniowej;\n",
    " * lokalnie na komputerze wyposażonym w GPU.\n"
   ]
  },
  {
   "cell_type": "markdown",
   "metadata": {
    "id": "IpmQdcI4FZ1L"
   },
   "source": [
    "## Środowisko pracy - Google Codelab\n",
    "\n",
    "https://codelabs.developers.google.com/?cat=Machine+Learning\n",
    "\n",
    "Dostęp do notatnika: https://colab.research.google.com\n",
    "\n",
    "Włączenie/wyłączenie wsparcia GPU odbywa się poprzez zmianę opcji środowiska uruchomieniowego:\n",
    " * Runtime -> Change runtime type -> Hardware accelerator -> None/GPU\n"
   ]
  },
  {
   "cell_type": "markdown",
   "metadata": {
    "id": "e1Q7W6I1FsVO"
   },
   "source": [
    "## Środowisko pracy - PC + GPU/CUDA + Anaconda\n",
    "\n",
    "Realizacja laboratorium wymaga Anacondy ze środowiskami:\n",
    " * tensorflow\n",
    " * tensorflow_gpuenv\n",
    " \n",
    "Różnica pomiędzy nimi polega na wykorzystaniu implementacji biblioteki Tensorflow z NVidia CUDA.\n",
    "\n",
    "Tworzenie środowisk:\n",
    " * wersja z CPU:\n",
    "\n",
    "```\n",
    "conda create -n tensorflow_env tensorflow\n",
    "conda activate tensorflow_env\n",
    "```\n",
    "\n",
    " * wersja z GPU:\n",
    "\n",
    "```\n",
    "conda create -n tensorflow_gpuenv tensorflow-gpu\n",
    "conda activate tensorflow_gpuenv\n",
    "```\n",
    "\n",
    "Za pomocą Anaconda Navigator uruchamiamy Jupyter Notebook w konkretnym środowisku - tylko CPU lub ze wsparciem GPU.\n"
   ]
  },
  {
   "cell_type": "markdown",
   "metadata": {
    "id": "F25OBqfZLwsA"
   },
   "source": [
    "## Sieć neuronowa dla zbioru MNIST"
   ]
  },
  {
   "cell_type": "markdown",
   "metadata": {
    "id": "aTQZi3VcLwsC"
   },
   "source": [
    "Przygotowanie środowiska - należy uruchomić notatnik z obliczeniami wyłącznie na CPU."
   ]
  },
  {
   "cell_type": "code",
   "execution_count": 40,
   "metadata": {
    "id": "Qs9wYVcZNY05"
   },
   "outputs": [],
   "source": [
    "try:\n",
    "  %tensorflow_version 2.x\n",
    "except:\n",
    "  pass"
   ]
  },
  {
   "cell_type": "code",
   "execution_count": 41,
   "metadata": {
    "id": "y3MzdLevLwsD"
   },
   "outputs": [],
   "source": [
    "import numpy as np\n",
    "import matplotlib.pyplot as plt\n",
    "import tensorflow\n",
    "\n",
    "from tensorflow.keras.datasets import mnist\n",
    "from tensorflow.keras.models import Sequential\n",
    "from tensorflow.keras.layers import Dense, Dropout, Activation, Flatten, Conv2D, AveragePooling2D\n",
    "from keras.utils import np_utils\n",
    "\n",
    "plt.rcParams['figure.figsize'] = (7,7) # Make the figures a bit bigger"
   ]
  },
  {
   "cell_type": "code",
   "execution_count": 42,
   "metadata": {
    "id": "aM1I_zfvxOKD"
   },
   "outputs": [
    {
     "name": "stdout",
     "output_type": "stream",
     "text": [
      "Num GPUs: 0\n"
     ]
    }
   ],
   "source": [
    "physical_devices = tensorflow.config.list_physical_devices('GPU')\n",
    "print(\"Num GPUs:\", len(physical_devices))"
   ]
  },
  {
   "cell_type": "code",
   "execution_count": 43,
   "metadata": {
    "id": "6aDH7dBMLwsY"
   },
   "outputs": [
    {
     "name": "stdout",
     "output_type": "stream",
     "text": [
      "X_train original shape (60000, 28, 28)\n",
      "y_train original shape (60000,)\n"
     ]
    }
   ],
   "source": [
    "nb_classes = 10\n",
    "\n",
    "# the data, shuffled and split between tran and test sets\n",
    "(X_train, y_train), (X_test, y_test) = mnist.load_data()\n",
    "print(\"X_train original shape\", X_train.shape)\n",
    "print(\"y_train original shape\", y_train.shape)"
   ]
  },
  {
   "cell_type": "markdown",
   "metadata": {
    "id": "e1Fb4X4sLwsh"
   },
   "source": [
    "Zwizualizuj przykładowe dane."
   ]
  },
  {
   "cell_type": "code",
   "execution_count": 44,
   "metadata": {
    "id": "q741OgE6Lwsi"
   },
   "outputs": [
    {
     "data": {
      "image/png": "[encoded data removed]",
      "text/plain": [
       "<Figure size 504x504 with 9 Axes>"
      ]
     },
     "metadata": {
      "needs_background": "light"
     },
     "output_type": "display_data"
    }
   ],
   "source": [
    "for i in range(9):\n",
    "    plt.subplot(3,3,i+1)\n",
    "    plt.imshow(X_train[i], cmap='gray', interpolation='none')\n",
    "    plt.title(\"Class {}\".format(y_train[i]))"
   ]
  },
  {
   "cell_type": "markdown",
   "metadata": {
    "id": "NuFEHgMhLwsp"
   },
   "source": [
    "Sieć neuronowa przyjmuje na wejściu obrazek z jednym kanałem - poziomem jasności, więc konieczne jest przekształcenie danych wejściowych, aby każdy obraz 28 x 28 stał się macierzą 28 x 28 x 1. \n",
    "\n",
    "Skalujemy również dane wejściowe w zakresie [0–1] zamiast [0–255]"
   ]
  },
  {
   "cell_type": "code",
   "execution_count": 45,
   "metadata": {
    "id": "2XwmB8dSLwsq"
   },
   "outputs": [
    {
     "name": "stdout",
     "output_type": "stream",
     "text": [
      "Training matrix shape (60000, 28, 28, 1)\n",
      "Testing matrix shape (10000, 28, 28, 1)\n"
     ]
    }
   ],
   "source": [
    "X_train = X_train.reshape(60000, 28,28,1)\n",
    "X_test = X_test.reshape(10000, 28,28,1)\n",
    "\n",
    "X_train = X_train.astype('float32')\n",
    "X_test = X_test.astype('float32')\n",
    "X_train /= 255.0\n",
    "X_test /= 255.0\n",
    "print(\"Training matrix shape\", X_train.shape)\n",
    "print(\"Testing matrix shape\", X_test.shape)"
   ]
  },
  {
   "cell_type": "markdown",
   "metadata": {
    "id": "hU9F52b4Lwsy"
   },
   "source": [
    "Zmodyfikuj macierze wyjść korzystając z techniki One Hot Encoding, tj.\n",
    "\n",
    "```\n",
    "0 -> [1, 0, 0, 0, 0, 0, 0, 0, 0]\n",
    "1 -> [0, 1, 0, 0, 0, 0, 0, 0, 0]\n",
    "2 -> [0, 0, 1, 0, 0, 0, 0, 0, 0]\n",
    "```\n",
    "itp."
   ]
  },
  {
   "cell_type": "code",
   "execution_count": 46,
   "metadata": {
    "id": "mOEeudBmLwsz"
   },
   "outputs": [],
   "source": [
    "Y_train = np_utils.to_categorical(y_train, nb_classes)\n",
    "Y_test = np_utils.to_categorical(y_test, nb_classes)"
   ]
  },
  {
   "cell_type": "markdown",
   "metadata": {
    "id": "AM5Kq1eaLws4"
   },
   "source": [
    "#Sieć MLP\n",
    "Zbuduj sieć neuronową. Na potrzeby zajęć sieć będzie posiadała 2 w pełni połączone warstwy. Na wejściu sieci jest macierz z jednym kanałem (28,28,1) dlatego pierwsza warstwa to *Flatten()*."
   ]
  },
  {
   "cell_type": "code",
   "execution_count": 47,
   "metadata": {
    "id": "wKreY86SLws5"
   },
   "outputs": [],
   "source": [
    "model = Sequential()\n",
    "model.add(Flatten(input_shape=(28,28,)))\n",
    "model.add(Dense(512, input_shape=(784,)))\n",
    "model.add(Activation('relu'))\n",
    "model.add(Dropout(0.2))   # Dropout helps protect the model from memorizing or \"overfitting\" the training data\n",
    "\n",
    "model.add(Dense(512))\n",
    "model.add(Activation('relu'))\n",
    "model.add(Dropout(0.2))\n",
    "\n",
    "model.add(Dense(10))\n",
    "model.add(Activation('softmax')) # w celu zapewnienia rozkładu wyjść sumującego się do 1"
   ]
  },
  {
   "cell_type": "markdown",
   "metadata": {
    "id": "5IIpzKZJ2gaQ"
   },
   "source": [
    "#Sieć CNN\n",
    "Zbuduj sieć neuronową. Powinna to być sieć LeNet-5 ze zmodyfikowanym rozmiarem wejścia (28,28,1) zamiast (32,32,1)."
   ]
  },
  {
   "cell_type": "code",
   "execution_count": 53,
   "metadata": {
    "id": "CDGMkAkw2jjO"
   },
   "outputs": [],
   "source": [
    "model = Sequential()\n",
    "model.add(Conv2D(filters=6, kernel_size=(3, 3), activation='relu', input_shape=(28,28,1)))\n",
    "\n",
    "model.add(AveragePooling2D())\n",
    "\n",
    "model.add(Conv2D(filters=16, kernel_size=(3, 3), activation='relu'))\n",
    "model.add(AveragePooling2D())\n",
    "\n",
    "model.add(Flatten())\n",
    "model.add(Dense(units=120, activation='relu'))\n",
    "model.add(Dense(units=84, activation='relu'))\n",
    "model.add(Dense(units=10, activation='softmax'))"
   ]
  },
  {
   "cell_type": "markdown",
   "metadata": {
    "id": "aWGpp5O1Lws-"
   },
   "source": [
    "#Kompilacja modelu\n",
    "\n",
    "Kolejnym krokiem jest kompilacja modelu. Biblioteka Keras jest wysokopoziomowym API upraszczającym tworzenie i uczenie sieci neuronowych z wykorzystaniem biblitoeki Tensorflow. Podczas kompilacji sieci, biblioteka Keras wymaga określenia funkcji strat oraz algorytmu optymalizującego proces uczenia."
   ]
  },
  {
   "cell_type": "code",
   "execution_count": 54,
   "metadata": {
    "id": "Cpn0-puHLws-"
   },
   "outputs": [],
   "source": [
    "model.compile(loss='categorical_crossentropy', optimizer='adam', metrics=['accuracy'])"
   ]
  },
  {
   "cell_type": "code",
   "execution_count": 55,
   "metadata": {
    "id": "MZH1a31GLwtF"
   },
   "outputs": [
    {
     "name": "stdout",
     "output_type": "stream",
     "text": [
      "Model: \"sequential_6\"\n",
      "_________________________________________________________________\n",
      "Layer (type)                 Output Shape              Param #   \n",
      "=================================================================\n",
      "conv2d_5 (Conv2D)            (None, 26, 26, 6)         60        \n",
      "_________________________________________________________________\n",
      "average_pooling2d_4 (Average (None, 13, 13, 6)         0         \n",
      "_________________________________________________________________\n",
      "conv2d_6 (Conv2D)            (None, 11, 11, 16)        880       \n",
      "_________________________________________________________________\n",
      "average_pooling2d_5 (Average (None, 5, 5, 16)          0         \n",
      "_________________________________________________________________\n",
      "flatten_5 (Flatten)          (None, 400)               0         \n",
      "_________________________________________________________________\n",
      "dense_15 (Dense)             (None, 120)               48120     \n",
      "_________________________________________________________________\n",
      "dense_16 (Dense)             (None, 84)                10164     \n",
      "_________________________________________________________________\n",
      "dense_17 (Dense)             (None, 10)                850       \n",
      "=================================================================\n",
      "Total params: 60,074\n",
      "Trainable params: 60,074\n",
      "Non-trainable params: 0\n",
      "_________________________________________________________________\n"
     ]
    }
   ],
   "source": [
    "model.summary()"
   ]
  },
  {
   "cell_type": "markdown",
   "metadata": {
    "id": "oN0iPEysLwtK"
   },
   "source": [
    "Po kompilacji modelu sieci neuronowej można przystąpić do uczenia sieci. Ze względu na fakt, że Jupyter notebook został uruchiomy w środowisku z biblioteką Tensorflow bez wsparcia dla GPU, to obliczenia będa wykonywane tylko i wyłącznie na CPU."
   ]
  },
  {
   "cell_type": "code",
   "execution_count": 56,
   "metadata": {
    "id": "h13u1lcur4wl"
   },
   "outputs": [],
   "source": [
    "import time\n",
    "import keras\n",
    "class TimeHistory(keras.callbacks.Callback):\n",
    "    def on_train_begin(self, logs={}):\n",
    "        self.times = []\n",
    "\n",
    "    def on_epoch_begin(self, batch, logs={}):\n",
    "        self.epoch_time_start = time.time()\n",
    "\n",
    "    def on_epoch_end(self, batch, logs={}):\n",
    "        self.times.append(time.time() - self.epoch_time_start)\n",
    "time_callback = TimeHistory()"
   ]
  },
  {
   "cell_type": "code",
   "execution_count": 57,
   "metadata": {
    "id": "97euA1BoLwtK"
   },
   "outputs": [
    {
     "name": "stdout",
     "output_type": "stream",
     "text": [
      "Epoch 1/16\n",
      "469/469 [==============================] - 4s 8ms/step - loss: 0.3970 - accuracy: 0.8836 - val_loss: 0.1398 - val_accuracy: 0.9569\n",
      "Epoch 2/16\n",
      "469/469 [==============================] - 3s 7ms/step - loss: 0.1165 - accuracy: 0.9646 - val_loss: 0.0792 - val_accuracy: 0.9762\n",
      "Epoch 3/16\n",
      "469/469 [==============================] - 3s 7ms/step - loss: 0.0809 - accuracy: 0.9752 - val_loss: 0.0640 - val_accuracy: 0.9797\n",
      "Epoch 4/16\n",
      "469/469 [==============================] - 4s 7ms/step - loss: 0.0645 - accuracy: 0.9804 - val_loss: 0.0573 - val_accuracy: 0.9803\n",
      "Epoch 5/16\n",
      "469/469 [==============================] - 3s 7ms/step - loss: 0.0539 - accuracy: 0.9828 - val_loss: 0.0637 - val_accuracy: 0.9791\n",
      "Epoch 6/16\n",
      "469/469 [==============================] - 3s 7ms/step - loss: 0.0474 - accuracy: 0.9851 - val_loss: 0.0499 - val_accuracy: 0.9817\n",
      "Epoch 7/16\n",
      "469/469 [==============================] - 3s 7ms/step - loss: 0.0412 - accuracy: 0.9868 - val_loss: 0.0497 - val_accuracy: 0.9841\n",
      "Epoch 8/16\n",
      "469/469 [==============================] - 3s 7ms/step - loss: 0.0366 - accuracy: 0.9884 - val_loss: 0.0379 - val_accuracy: 0.9870\n",
      "Epoch 9/16\n",
      "469/469 [==============================] - 4s 7ms/step - loss: 0.0325 - accuracy: 0.9896 - val_loss: 0.0400 - val_accuracy: 0.9871\n",
      "Epoch 10/16\n",
      "469/469 [==============================] - 3s 7ms/step - loss: 0.0276 - accuracy: 0.9914 - val_loss: 0.0366 - val_accuracy: 0.9874\n",
      "Epoch 11/16\n",
      "469/469 [==============================] - 3s 7ms/step - loss: 0.0261 - accuracy: 0.9914 - val_loss: 0.0405 - val_accuracy: 0.9884\n",
      "Epoch 12/16\n",
      "469/469 [==============================] - 3s 7ms/step - loss: 0.0219 - accuracy: 0.9932 - val_loss: 0.0333 - val_accuracy: 0.9892\n",
      "Epoch 13/16\n",
      "469/469 [==============================] - 4s 8ms/step - loss: 0.0207 - accuracy: 0.9930 - val_loss: 0.0460 - val_accuracy: 0.9852\n",
      "Epoch 14/16\n",
      "469/469 [==============================] - 3s 7ms/step - loss: 0.0206 - accuracy: 0.9929 - val_loss: 0.0378 - val_accuracy: 0.9878\n",
      "Epoch 15/16\n",
      "469/469 [==============================] - 3s 7ms/step - loss: 0.0182 - accuracy: 0.9941 - val_loss: 0.0414 - val_accuracy: 0.9868\n",
      "Epoch 16/16\n",
      "469/469 [==============================] - 4s 8ms/step - loss: 0.0151 - accuracy: 0.9953 - val_loss: 0.0403 - val_accuracy: 0.9880\n"
     ]
    },
    {
     "data": {
      "text/plain": [
       "<tensorflow.python.keras.callbacks.History at 0x1bd5c06ad30>"
      ]
     },
     "execution_count": 57,
     "metadata": {},
     "output_type": "execute_result"
    }
   ],
   "source": [
    "model.fit(X_train, Y_train,\n",
    "          batch_size=128, epochs=16,\n",
    "          verbose=1,\n",
    "          validation_data=(X_test, Y_test), callbacks = time_callback)"
   ]
  },
  {
   "cell_type": "code",
   "execution_count": 58,
   "metadata": {
    "id": "jT9qa296sjL9"
   },
   "outputs": [
    {
     "name": "stdout",
     "output_type": "stream",
     "text": [
      "[3.9095115661621094, 3.4454433917999268, 3.446265697479248, 3.5157992839813232, 3.470479726791382, 3.48116397857666, 3.4777672290802, 3.4959194660186768, 3.5238101482391357, 3.485060691833496, 3.490553855895996, 3.4990530014038086, 3.5264718532562256, 3.493903160095215, 3.4793331623077393, 3.5379490852355957]\n"
     ]
    }
   ],
   "source": [
    "times = time_callback.times\n",
    "\n",
    "print(times)"
   ]
  },
  {
   "cell_type": "markdown",
   "metadata": {
    "id": "QwwGeJ6PLwtp"
   },
   "source": [
    "## Ewaluacja sieci neuronowej dla zbioru MNIST"
   ]
  },
  {
   "cell_type": "code",
   "execution_count": 59,
   "metadata": {
    "id": "W8ZNIBBdLwtr"
   },
   "outputs": [
    {
     "name": "stdout",
     "output_type": "stream",
     "text": [
      "Test score: [0.0402972474694252, 0.9879999756813049]\n"
     ]
    },
    {
     "data": {
      "image/png": "[encoded data removed]",
      "text/plain": [
       "<Figure size 504x504 with 9 Axes>"
      ]
     },
     "metadata": {
      "needs_background": "light"
     },
     "output_type": "display_data"
    },
    {
     "data": {
      "image/png": "[encoded data removed]",
      "text/plain": [
       "<Figure size 504x504 with 9 Axes>"
      ]
     },
     "metadata": {
      "needs_background": "light"
     },
     "output_type": "display_data"
    }
   ],
   "source": [
    "score = model.evaluate(X_test, Y_test,verbose=0)\n",
    "print('Test score:', score)\n",
    "\n",
    "predicted_classes = np.argmax(model.predict(X_test), axis=-1)\n",
    "correct_indices = np.nonzero(predicted_classes == y_test)[0]\n",
    "incorrect_indices = np.nonzero(predicted_classes != y_test)[0]\n",
    "\n",
    "plt.figure()\n",
    "for i, correct in enumerate(correct_indices[:9]):\n",
    "    plt.subplot(3,3,i+1)\n",
    "    plt.imshow(X_test[correct].reshape(28,28), cmap='gray', interpolation='none')\n",
    "    plt.title(\"Predicted {}, Class {}\".format(predicted_classes[correct], y_test[correct]))\n",
    "    \n",
    "plt.figure()\n",
    "for i, incorrect in enumerate(incorrect_indices[:9]):\n",
    "    plt.subplot(3,3,i+1)\n",
    "    plt.imshow(X_test[incorrect].reshape(28,28), cmap='gray', interpolation='none')\n",
    "    plt.title(\"Predicted {}, Class {}\".format(predicted_classes[incorrect], y_test[incorrect]))"
   ]
  },
  {
   "cell_type": "markdown",
   "metadata": {
    "id": "XT0BYxGwLwtS"
   },
   "source": [
    "## Analiza czasu uczenia sieci z wykorzystaniem CPU oraz przy wsparciu GPU"
   ]
  },
  {
   "cell_type": "markdown",
   "metadata": {
    "id": "jv7kWHYwLwtS"
   },
   "source": [
    "Uzupełnij poniższy fragment kodu wpisując dane dotyczące czasu obliczeń dla każdej z szesnastu epok uczenia sieci neuronowej."
   ]
  },
  {
   "cell_type": "code",
   "execution_count": 60,
   "metadata": {
    "id": "PBhpuE6SLwtT"
   },
   "outputs": [],
   "source": [
    "cpu_epoch_time_MLP = [2.7365548610687256, 2.1659111976623535, 2.228017568588257, 2.1989939212799072, 2.228546619415283, 2.214707136154175, 2.239496946334839, 2.2959768772125244, 2.2398502826690674, 2.263007879257202, 2.224656820297241, 2.2573423385620117, 2.232140064239502, 2.2640366554260254, 2.6596179008483887, 2.5365490913391113]\n",
    "cpu_accuracy_MLP = 0.9931\n",
    "\n",
    "cpu_epoch_time_CNN = [4.089617490768433, 3.546412706375122, 3.507059097290039, 3.527902126312256, 3.6646978855133057, 3.5820908546447754, 3.6329867839813232, 3.535179853439331, 3.5915277004241943, 3.5317394733428955, 3.5416932106018066, 3.7721469402313232, 3.5565381050109863, 3.60021710395813, 3.503537893295288, 3.516526222229004]\n",
    "cpu_accuracy_CNN = 0.9957\n"
   ]
  },
  {
   "cell_type": "markdown",
   "metadata": {
    "id": "rCnXpfgpLwtd"
   },
   "source": [
    "Uaktywnij wsparcie GPU dla obliczeń i uruchom ponownie proces uczenia sieci neuronowej na bazie MNIST i uzupełnij fragment kodu poniżej.\n",
    "\n",
    "W przypadku środowiska Anaconda zamknij środowisko *tensorflow\\_env* i uruchom środowisko *tensorflow\\_gpuenv*. W przypadku Google Colab zmień ustawienia środowiska uruchomieniowego.\n",
    "\n"
   ]
  },
  {
   "cell_type": "code",
   "execution_count": 61,
   "metadata": {
    "id": "r19aSv6jLwte"
   },
   "outputs": [],
   "source": [
    "gpu_epoch_time_MLP = [2.8998782634735107, 2.238100290298462, 2.2506368160247803, 2.330791473388672, 2.185788869857788, 2.2326033115386963, 2.272249937057495, 2.288484573364258, 2.280461072921753, 2.2774710655212402, 2.299339532852173, 2.2180182933807373, 2.247863531112671, 2.33193039894104, 2.3046836853027344, 2.300619125366211]\n",
    "gpu_accuracy_MLP = 0.9935\n",
    "\n",
    "gpu_epoch_time_CNN = [3.9095115661621094, 3.4454433917999268, 3.446265697479248, 3.5157992839813232, 3.470479726791382, 3.48116397857666, 3.4777672290802, 3.4959194660186768, 3.5238101482391357, 3.485060691833496, 3.490553855895996, 3.4990530014038086, 3.5264718532562256, 3.493903160095215, 3.4793331623077393, 3.5379490852355957]\n",
    "gpu_accuracy_CNN = 0.9953"
   ]
  },
  {
   "cell_type": "markdown",
   "metadata": {
    "id": "FgGmLKKDLwtj"
   },
   "source": [
    "Zwizualizuj i przeanalizuj czas uczenia sieci neuronowej z CPU i GPU."
   ]
  },
  {
   "cell_type": "code",
   "execution_count": 62,
   "metadata": {
    "id": "H8AOGoRtLwtj"
   },
   "outputs": [
    {
     "data": {
      "text/plain": [
       "{'whiskers': [<matplotlib.lines.Line2D at 0x1bd4ba6b310>,\n",
       "  <matplotlib.lines.Line2D at 0x1bd4ba6b670>,\n",
       "  <matplotlib.lines.Line2D at 0x1bd4ba78ac0>,\n",
       "  <matplotlib.lines.Line2D at 0x1bd4ba78df0>,\n",
       "  <matplotlib.lines.Line2D at 0x1bd4ba91190>,\n",
       "  <matplotlib.lines.Line2D at 0x1bd4ba914c0>,\n",
       "  <matplotlib.lines.Line2D at 0x1bd4ba9d820>,\n",
       "  <matplotlib.lines.Line2D at 0x1bd4ba9db50>],\n",
       " 'caps': [<matplotlib.lines.Line2D at 0x1bd4ba6b9d0>,\n",
       "  <matplotlib.lines.Line2D at 0x1bd4ba6bd30>,\n",
       "  <matplotlib.lines.Line2D at 0x1bd4ba84160>,\n",
       "  <matplotlib.lines.Line2D at 0x1bd4ba84490>,\n",
       "  <matplotlib.lines.Line2D at 0x1bd4ba917f0>,\n",
       "  <matplotlib.lines.Line2D at 0x1bd4ba91b20>,\n",
       "  <matplotlib.lines.Line2D at 0x1bd4ba9de80>,\n",
       "  <matplotlib.lines.Line2D at 0x1bd4baa81f0>],\n",
       " 'boxes': [<matplotlib.lines.Line2D at 0x1bd4ba5af40>,\n",
       "  <matplotlib.lines.Line2D at 0x1bd4ba78790>,\n",
       "  <matplotlib.lines.Line2D at 0x1bd4ba84e20>,\n",
       "  <matplotlib.lines.Line2D at 0x1bd4ba9d4f0>],\n",
       " 'medians': [<matplotlib.lines.Line2D at 0x1bd4ba780d0>,\n",
       "  <matplotlib.lines.Line2D at 0x1bd4ba847c0>,\n",
       "  <matplotlib.lines.Line2D at 0x1bd4ba91e50>,\n",
       "  <matplotlib.lines.Line2D at 0x1bd4baa8520>],\n",
       " 'fliers': [<matplotlib.lines.Line2D at 0x1bd4ba78430>,\n",
       "  <matplotlib.lines.Line2D at 0x1bd4ba84af0>,\n",
       "  <matplotlib.lines.Line2D at 0x1bd4ba9d1c0>,\n",
       "  <matplotlib.lines.Line2D at 0x1bd4baa8850>],\n",
       " 'means': []}"
      ]
     },
     "execution_count": 62,
     "metadata": {},
     "output_type": "execute_result"
    },
    {
     "data": {
      "image/png": "[encoded data removed]",
      "text/plain": [
       "<Figure size 504x504 with 1 Axes>"
      ]
     },
     "metadata": {
      "needs_background": "light"
     },
     "output_type": "display_data"
    }
   ],
   "source": [
    "plt.boxplot([cpu_epoch_time_MLP, cpu_epoch_time_CNN, gpu_epoch_time_MLP, gpu_epoch_time_CNN], labels=['CPU MLP', 'CPU CNN', 'GPU MLP', 'GPU CNN'])\n"
   ]
  },
  {
   "cell_type": "markdown",
   "metadata": {
    "id": "t23eG5H2PXiu"
   },
   "source": [
    "**Wnioski**\n",
    "\n",
    "* Jeśli chodzi o MLP, to szybsze było podejście wykorzystujące CPU (natomiast mniej dokładne). W przypadku CNN szybsze okazało się być podejście z GPU, ale mniej dokładne od podejścia z CPU.\n",
    "\n",
    "* GPU - Intel(R) UHD Graphics 630, pamięć procesora: 7.9 GB\n",
    "* CPU - Intel(R) Core(TM) i7-10700T CPU @ 2.00GHz, rdzenie: 8\n",
    "\n"
   ]
  },
  {
   "cell_type": "markdown",
   "metadata": {},
   "source": [
    "## Mikołaj Sikora"
   ]
  }
 ],
 "metadata": {
  "colab": {
   "collapsed_sections": [],
   "name": "lab3-student_v6.ipynb",
   "provenance": []
  },
  "kernelspec": {
   "display_name": "Python 3",
   "language": "python",
   "name": "python3"
  },
  "language_info": {
   "codemirror_mode": {
    "name": "ipython",
    "version": 3
   },
   "file_extension": ".py",
   "mimetype": "text/x-python",
   "name": "python",
   "nbconvert_exporter": "python",
   "pygments_lexer": "ipython3",
   "version": "3.8.8"
  }
 },
 "nbformat": 4,
 "nbformat_minor": 1
}
