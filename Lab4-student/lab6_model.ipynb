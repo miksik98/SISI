{
 "cells": [
  {
   "cell_type": "code",
   "execution_count": 1,
   "metadata": {
    "id": "9TNxAc1RMvhF"
   },
   "outputs": [
    {
     "name": "stdout",
     "output_type": "stream",
     "text": [
      "Collecting shap\n",
      "  Downloading shap-0.39.0-cp38-cp38-win_amd64.whl (414 kB)\n",
      "Collecting slicer==0.0.7\n",
      "  Downloading slicer-0.0.7-py3-none-any.whl (14 kB)\n",
      "Requirement already satisfied: tqdm>4.25.0 in c:\\users\\mikol\\anaconda3\\lib\\site-packages (from shap) (4.56.0)\n",
      "Requirement already satisfied: pandas in c:\\users\\mikol\\anaconda3\\lib\\site-packages (from shap) (1.2.3)\n",
      "Requirement already satisfied: numpy in c:\\users\\mikol\\anaconda3\\lib\\site-packages (from shap) (1.19.2)\n",
      "Collecting numba\n",
      "  Downloading numba-0.53.1-cp38-cp38-win_amd64.whl (2.3 MB)\n",
      "Collecting cloudpickle\n",
      "  Downloading cloudpickle-1.6.0-py3-none-any.whl (23 kB)\n",
      "Requirement already satisfied: scikit-learn in c:\\users\\mikol\\anaconda3\\lib\\site-packages (from shap) (0.24.1)\n",
      "Requirement already satisfied: scipy in c:\\users\\mikol\\anaconda3\\lib\\site-packages (from shap) (1.6.1)\n",
      "Requirement already satisfied: setuptools in c:\\users\\mikol\\anaconda3\\lib\\site-packages (from numba->shap) (52.0.0.post20210125)\n",
      "Collecting llvmlite<0.37,>=0.36.0rc1\n",
      "  Downloading llvmlite-0.36.0-cp38-cp38-win_amd64.whl (16.0 MB)\n",
      "Requirement already satisfied: python-dateutil>=2.7.3 in c:\\users\\mikol\\anaconda3\\lib\\site-packages (from pandas->shap) (2.8.1)\n",
      "Requirement already satisfied: pytz>=2017.3 in c:\\users\\mikol\\anaconda3\\lib\\site-packages (from pandas->shap) (2021.1)\n",
      "Requirement already satisfied: six>=1.5 in c:\\users\\mikol\\anaconda3\\lib\\site-packages (from python-dateutil>=2.7.3->pandas->shap) (1.15.0)\n",
      "Requirement already satisfied: threadpoolctl>=2.0.0 in c:\\users\\mikol\\anaconda3\\lib\\site-packages (from scikit-learn->shap) (2.1.0)\n",
      "Requirement already satisfied: joblib>=0.11 in c:\\users\\mikol\\anaconda3\\lib\\site-packages (from scikit-learn->shap) (1.0.1)\n",
      "Installing collected packages: llvmlite, slicer, numba, cloudpickle, shap\n",
      "Successfully installed cloudpickle-1.6.0 llvmlite-0.36.0 numba-0.53.1 shap-0.39.0 slicer-0.0.7\n"
     ]
    }
   ],
   "source": [
    "!pip install shap\n",
    "import shap"
   ]
  },
  {
   "cell_type": "code",
   "execution_count": 2,
   "metadata": {
    "id": "Zlr7MvCWN30k"
   },
   "outputs": [],
   "source": [
    "data,labels =  shap.datasets.adult()"
   ]
  },
  {
   "cell_type": "code",
   "execution_count": 3,
   "metadata": {
    "id": "V2-XMrdUN8JI"
   },
   "outputs": [
    {
     "data": {
      "text/html": [
       "<div>\n",
       "<style scoped>\n",
       "    .dataframe tbody tr th:only-of-type {\n",
       "        vertical-align: middle;\n",
       "    }\n",
       "\n",
       "    .dataframe tbody tr th {\n",
       "        vertical-align: top;\n",
       "    }\n",
       "\n",
       "    .dataframe thead th {\n",
       "        text-align: right;\n",
       "    }\n",
       "</style>\n",
       "<table border=\"1\" class=\"dataframe\">\n",
       "  <thead>\n",
       "    <tr style=\"text-align: right;\">\n",
       "      <th></th>\n",
       "      <th>Age</th>\n",
       "      <th>Workclass</th>\n",
       "      <th>Education-Num</th>\n",
       "      <th>Marital Status</th>\n",
       "      <th>Occupation</th>\n",
       "      <th>Relationship</th>\n",
       "      <th>Race</th>\n",
       "      <th>Sex</th>\n",
       "      <th>Capital Gain</th>\n",
       "      <th>Capital Loss</th>\n",
       "      <th>Hours per week</th>\n",
       "      <th>Country</th>\n",
       "    </tr>\n",
       "  </thead>\n",
       "  <tbody>\n",
       "    <tr>\n",
       "      <th>0</th>\n",
       "      <td>39.0</td>\n",
       "      <td>7</td>\n",
       "      <td>13.0</td>\n",
       "      <td>4</td>\n",
       "      <td>1</td>\n",
       "      <td>0</td>\n",
       "      <td>4</td>\n",
       "      <td>1</td>\n",
       "      <td>2174.0</td>\n",
       "      <td>0.0</td>\n",
       "      <td>40.0</td>\n",
       "      <td>39</td>\n",
       "    </tr>\n",
       "    <tr>\n",
       "      <th>1</th>\n",
       "      <td>50.0</td>\n",
       "      <td>6</td>\n",
       "      <td>13.0</td>\n",
       "      <td>2</td>\n",
       "      <td>4</td>\n",
       "      <td>4</td>\n",
       "      <td>4</td>\n",
       "      <td>1</td>\n",
       "      <td>0.0</td>\n",
       "      <td>0.0</td>\n",
       "      <td>13.0</td>\n",
       "      <td>39</td>\n",
       "    </tr>\n",
       "    <tr>\n",
       "      <th>2</th>\n",
       "      <td>38.0</td>\n",
       "      <td>4</td>\n",
       "      <td>9.0</td>\n",
       "      <td>0</td>\n",
       "      <td>6</td>\n",
       "      <td>0</td>\n",
       "      <td>4</td>\n",
       "      <td>1</td>\n",
       "      <td>0.0</td>\n",
       "      <td>0.0</td>\n",
       "      <td>40.0</td>\n",
       "      <td>39</td>\n",
       "    </tr>\n",
       "    <tr>\n",
       "      <th>3</th>\n",
       "      <td>53.0</td>\n",
       "      <td>4</td>\n",
       "      <td>7.0</td>\n",
       "      <td>2</td>\n",
       "      <td>6</td>\n",
       "      <td>4</td>\n",
       "      <td>2</td>\n",
       "      <td>1</td>\n",
       "      <td>0.0</td>\n",
       "      <td>0.0</td>\n",
       "      <td>40.0</td>\n",
       "      <td>39</td>\n",
       "    </tr>\n",
       "    <tr>\n",
       "      <th>4</th>\n",
       "      <td>28.0</td>\n",
       "      <td>4</td>\n",
       "      <td>13.0</td>\n",
       "      <td>2</td>\n",
       "      <td>10</td>\n",
       "      <td>5</td>\n",
       "      <td>2</td>\n",
       "      <td>0</td>\n",
       "      <td>0.0</td>\n",
       "      <td>0.0</td>\n",
       "      <td>40.0</td>\n",
       "      <td>5</td>\n",
       "    </tr>\n",
       "    <tr>\n",
       "      <th>...</th>\n",
       "      <td>...</td>\n",
       "      <td>...</td>\n",
       "      <td>...</td>\n",
       "      <td>...</td>\n",
       "      <td>...</td>\n",
       "      <td>...</td>\n",
       "      <td>...</td>\n",
       "      <td>...</td>\n",
       "      <td>...</td>\n",
       "      <td>...</td>\n",
       "      <td>...</td>\n",
       "      <td>...</td>\n",
       "    </tr>\n",
       "    <tr>\n",
       "      <th>32556</th>\n",
       "      <td>27.0</td>\n",
       "      <td>4</td>\n",
       "      <td>12.0</td>\n",
       "      <td>2</td>\n",
       "      <td>13</td>\n",
       "      <td>5</td>\n",
       "      <td>4</td>\n",
       "      <td>0</td>\n",
       "      <td>0.0</td>\n",
       "      <td>0.0</td>\n",
       "      <td>38.0</td>\n",
       "      <td>39</td>\n",
       "    </tr>\n",
       "    <tr>\n",
       "      <th>32557</th>\n",
       "      <td>40.0</td>\n",
       "      <td>4</td>\n",
       "      <td>9.0</td>\n",
       "      <td>2</td>\n",
       "      <td>7</td>\n",
       "      <td>4</td>\n",
       "      <td>4</td>\n",
       "      <td>1</td>\n",
       "      <td>0.0</td>\n",
       "      <td>0.0</td>\n",
       "      <td>40.0</td>\n",
       "      <td>39</td>\n",
       "    </tr>\n",
       "    <tr>\n",
       "      <th>32558</th>\n",
       "      <td>58.0</td>\n",
       "      <td>4</td>\n",
       "      <td>9.0</td>\n",
       "      <td>6</td>\n",
       "      <td>1</td>\n",
       "      <td>1</td>\n",
       "      <td>4</td>\n",
       "      <td>0</td>\n",
       "      <td>0.0</td>\n",
       "      <td>0.0</td>\n",
       "      <td>40.0</td>\n",
       "      <td>39</td>\n",
       "    </tr>\n",
       "    <tr>\n",
       "      <th>32559</th>\n",
       "      <td>22.0</td>\n",
       "      <td>4</td>\n",
       "      <td>9.0</td>\n",
       "      <td>4</td>\n",
       "      <td>1</td>\n",
       "      <td>3</td>\n",
       "      <td>4</td>\n",
       "      <td>1</td>\n",
       "      <td>0.0</td>\n",
       "      <td>0.0</td>\n",
       "      <td>20.0</td>\n",
       "      <td>39</td>\n",
       "    </tr>\n",
       "    <tr>\n",
       "      <th>32560</th>\n",
       "      <td>52.0</td>\n",
       "      <td>5</td>\n",
       "      <td>9.0</td>\n",
       "      <td>2</td>\n",
       "      <td>4</td>\n",
       "      <td>5</td>\n",
       "      <td>4</td>\n",
       "      <td>0</td>\n",
       "      <td>15024.0</td>\n",
       "      <td>0.0</td>\n",
       "      <td>40.0</td>\n",
       "      <td>39</td>\n",
       "    </tr>\n",
       "  </tbody>\n",
       "</table>\n",
       "<p>32561 rows × 12 columns</p>\n",
       "</div>"
      ],
      "text/plain": [
       "        Age  Workclass  Education-Num  Marital Status  Occupation  \\\n",
       "0      39.0          7           13.0               4           1   \n",
       "1      50.0          6           13.0               2           4   \n",
       "2      38.0          4            9.0               0           6   \n",
       "3      53.0          4            7.0               2           6   \n",
       "4      28.0          4           13.0               2          10   \n",
       "...     ...        ...            ...             ...         ...   \n",
       "32556  27.0          4           12.0               2          13   \n",
       "32557  40.0          4            9.0               2           7   \n",
       "32558  58.0          4            9.0               6           1   \n",
       "32559  22.0          4            9.0               4           1   \n",
       "32560  52.0          5            9.0               2           4   \n",
       "\n",
       "       Relationship  Race  Sex  Capital Gain  Capital Loss  Hours per week  \\\n",
       "0                 0     4    1        2174.0           0.0            40.0   \n",
       "1                 4     4    1           0.0           0.0            13.0   \n",
       "2                 0     4    1           0.0           0.0            40.0   \n",
       "3                 4     2    1           0.0           0.0            40.0   \n",
       "4                 5     2    0           0.0           0.0            40.0   \n",
       "...             ...   ...  ...           ...           ...             ...   \n",
       "32556             5     4    0           0.0           0.0            38.0   \n",
       "32557             4     4    1           0.0           0.0            40.0   \n",
       "32558             1     4    0           0.0           0.0            40.0   \n",
       "32559             3     4    1           0.0           0.0            20.0   \n",
       "32560             5     4    0       15024.0           0.0            40.0   \n",
       "\n",
       "       Country  \n",
       "0           39  \n",
       "1           39  \n",
       "2           39  \n",
       "3           39  \n",
       "4            5  \n",
       "...        ...  \n",
       "32556       39  \n",
       "32557       39  \n",
       "32558       39  \n",
       "32559       39  \n",
       "32560       39  \n",
       "\n",
       "[32561 rows x 12 columns]"
      ]
     },
     "execution_count": 3,
     "metadata": {},
     "output_type": "execute_result"
    }
   ],
   "source": [
    "data"
   ]
  },
  {
   "cell_type": "code",
   "execution_count": 4,
   "metadata": {
    "id": "JRtxep3GN_Ob"
   },
   "outputs": [
    {
     "data": {
      "text/plain": [
       "(32561, 12)"
      ]
     },
     "execution_count": 4,
     "metadata": {},
     "output_type": "execute_result"
    }
   ],
   "source": [
    "data.shape"
   ]
  },
  {
   "cell_type": "code",
   "execution_count": 5,
   "metadata": {
    "id": "sXgR4wbXNj9N"
   },
   "outputs": [
    {
     "data": {
      "text/plain": [
       "array([False, False, False, ..., False, False,  True])"
      ]
     },
     "execution_count": 5,
     "metadata": {},
     "output_type": "execute_result"
    }
   ],
   "source": [
    "labels"
   ]
  },
  {
   "cell_type": "code",
   "execution_count": 6,
   "metadata": {
    "id": "Yt3Up6bfU_xQ"
   },
   "outputs": [
    {
     "data": {
      "text/plain": [
       "(32561,)"
      ]
     },
     "execution_count": 6,
     "metadata": {},
     "output_type": "execute_result"
    }
   ],
   "source": [
    "labels.shape"
   ]
  },
  {
   "cell_type": "code",
   "execution_count": 8,
   "metadata": {
    "id": "55B6JiwHNW9j"
   },
   "outputs": [],
   "source": [
    "import lightgbm  as lgbm"
   ]
  },
  {
   "cell_type": "code",
   "execution_count": 9,
   "metadata": {
    "id": "0s34GrEMSdhu"
   },
   "outputs": [],
   "source": [
    "params = {'objective':'binary',\n",
    "          'booster_type':'gbdt',\n",
    "          'max_depth':6,\n",
    "          'learning_rate':0.05,\n",
    "          'metric':'auc'\n",
    "}"
   ]
  },
  {
   "cell_type": "code",
   "execution_count": 10,
   "metadata": {
    "id": "C4iVU7xkSsb0"
   },
   "outputs": [
    {
     "name": "stdout",
     "output_type": "stream",
     "text": [
      "[LightGBM] [Warning] Unknown parameter: booster_type\n",
      "[LightGBM] [Warning] Accuracy may be bad since you didn't explicitly set num_leaves OR 2^max_depth > num_leaves. (num_leaves=31).\n",
      "[LightGBM] [Warning] Find whitespaces in feature_names, replace with underlines\n",
      "[LightGBM] [Warning] Unknown parameter: booster_type\n",
      "[LightGBM] [Warning] Accuracy may be bad since you didn't explicitly set num_leaves OR 2^max_depth > num_leaves. (num_leaves=31).\n",
      "[LightGBM] [Info] Number of positive: 7841, number of negative: 24720\n",
      "[LightGBM] [Warning] Auto-choosing row-wise multi-threading, the overhead of testing was 0.000803 seconds.\n",
      "You can set `force_row_wise=true` to remove the overhead.\n",
      "And if memory is not enough, you can set `force_col_wise=true`.\n",
      "[LightGBM] [Info] Total Bins 431\n",
      "[LightGBM] [Info] Number of data points in the train set: 32561, number of used features: 12\n",
      "[LightGBM] [Info] [binary:BoostFromScore]: pavg=0.240810 -> initscore=-1.148246\n",
      "[LightGBM] [Info] Start training from score -1.148246\n",
      "[1]\ttraining's auc: 0.900567\n",
      "[2]\ttraining's auc: 0.900376\n",
      "[3]\ttraining's auc: 0.902974\n",
      "[4]\ttraining's auc: 0.903588\n",
      "[5]\ttraining's auc: 0.906959\n",
      "[6]\ttraining's auc: 0.907989\n",
      "[7]\ttraining's auc: 0.908394\n",
      "[8]\ttraining's auc: 0.908685\n",
      "[9]\ttraining's auc: 0.908866\n",
      "[10]\ttraining's auc: 0.909243\n",
      "[11]\ttraining's auc: 0.90949\n",
      "[12]\ttraining's auc: 0.909707\n",
      "[13]\ttraining's auc: 0.909985\n",
      "[14]\ttraining's auc: 0.910673\n",
      "[15]\ttraining's auc: 0.910928\n",
      "[16]\ttraining's auc: 0.911117\n",
      "[17]\ttraining's auc: 0.911551\n",
      "[18]\ttraining's auc: 0.911932\n",
      "[19]\ttraining's auc: 0.912196\n",
      "[20]\ttraining's auc: 0.91262\n",
      "[21]\ttraining's auc: 0.912781\n",
      "[22]\ttraining's auc: 0.91304\n",
      "[23]\ttraining's auc: 0.913429\n",
      "[24]\ttraining's auc: 0.91361\n",
      "[25]\ttraining's auc: 0.913831\n",
      "[26]\ttraining's auc: 0.914132\n",
      "[27]\ttraining's auc: 0.914508\n",
      "[28]\ttraining's auc: 0.914833\n",
      "[29]\ttraining's auc: 0.915177\n",
      "[30]\ttraining's auc: 0.915394\n",
      "[31]\ttraining's auc: 0.915497\n",
      "[32]\ttraining's auc: 0.915724\n",
      "[33]\ttraining's auc: 0.915938\n",
      "[34]\ttraining's auc: 0.916868\n",
      "[35]\ttraining's auc: 0.917203\n",
      "[36]\ttraining's auc: 0.917476\n",
      "[37]\ttraining's auc: 0.917675\n",
      "[38]\ttraining's auc: 0.918311\n",
      "[39]\ttraining's auc: 0.918512\n",
      "[40]\ttraining's auc: 0.918719\n",
      "[41]\ttraining's auc: 0.919257\n",
      "[42]\ttraining's auc: 0.91943\n",
      "[43]\ttraining's auc: 0.919618\n",
      "[44]\ttraining's auc: 0.919742\n",
      "[45]\ttraining's auc: 0.919954\n",
      "[46]\ttraining's auc: 0.920094\n",
      "[47]\ttraining's auc: 0.920293\n",
      "[48]\ttraining's auc: 0.920384\n",
      "[49]\ttraining's auc: 0.920504\n",
      "[50]\ttraining's auc: 0.920584\n",
      "[51]\ttraining's auc: 0.920961\n",
      "[52]\ttraining's auc: 0.921074\n",
      "[53]\ttraining's auc: 0.921346\n",
      "[54]\ttraining's auc: 0.921587\n",
      "[55]\ttraining's auc: 0.921798\n",
      "[56]\ttraining's auc: 0.921965\n",
      "[57]\ttraining's auc: 0.922123\n",
      "[58]\ttraining's auc: 0.922309\n",
      "[59]\ttraining's auc: 0.922763\n",
      "[60]\ttraining's auc: 0.923262\n",
      "[61]\ttraining's auc: 0.923424\n",
      "[62]\ttraining's auc: 0.923559\n",
      "[63]\ttraining's auc: 0.923898\n",
      "[64]\ttraining's auc: 0.923992\n",
      "[65]\ttraining's auc: 0.924372\n",
      "[66]\ttraining's auc: 0.924757\n",
      "[67]\ttraining's auc: 0.925061\n",
      "[68]\ttraining's auc: 0.925186\n",
      "[69]\ttraining's auc: 0.925517\n",
      "[70]\ttraining's auc: 0.925795\n",
      "[71]\ttraining's auc: 0.925975\n",
      "[72]\ttraining's auc: 0.926251\n",
      "[73]\ttraining's auc: 0.92645\n",
      "[74]\ttraining's auc: 0.92663\n",
      "[75]\ttraining's auc: 0.926844\n",
      "[76]\ttraining's auc: 0.926987\n",
      "[77]\ttraining's auc: 0.927267\n",
      "[78]\ttraining's auc: 0.927449\n",
      "[79]\ttraining's auc: 0.927601\n",
      "[80]\ttraining's auc: 0.927889\n",
      "[81]\ttraining's auc: 0.928124\n",
      "[82]\ttraining's auc: 0.928266\n",
      "[83]\ttraining's auc: 0.928428\n",
      "[84]\ttraining's auc: 0.928656\n",
      "[85]\ttraining's auc: 0.92898\n",
      "[86]\ttraining's auc: 0.929119\n",
      "[87]\ttraining's auc: 0.929304\n",
      "[88]\ttraining's auc: 0.929565\n",
      "[89]\ttraining's auc: 0.929705\n",
      "[90]\ttraining's auc: 0.929919\n",
      "[91]\ttraining's auc: 0.930038\n",
      "[92]\ttraining's auc: 0.930168\n",
      "[93]\ttraining's auc: 0.930421\n",
      "[94]\ttraining's auc: 0.930594\n",
      "[95]\ttraining's auc: 0.930792\n",
      "[96]\ttraining's auc: 0.930988\n",
      "[97]\ttraining's auc: 0.931165\n",
      "[98]\ttraining's auc: 0.93137\n",
      "[99]\ttraining's auc: 0.931565\n",
      "[100]\ttraining's auc: 0.931682\n"
     ]
    }
   ],
   "source": [
    "dtrain = lgbm.Dataset(data,labels)\n",
    "model = lgbm.train(params,dtrain,num_boost_round=100,valid_sets=[dtrain])\n"
   ]
  },
  {
   "cell_type": "code",
   "execution_count": 11,
   "metadata": {
    "id": "vJ_8W8sMcm1a"
   },
   "outputs": [
    {
     "name": "stdout",
     "output_type": "stream",
     "text": [
      "LightGBM Model accuracy score: 0.8752\n",
      "[[23521  1199]\n",
      " [ 2864  4977]]\n",
      "\n",
      "True Positives(TP) =  23521\n",
      "\n",
      "True Negatives(TN) =  4977\n",
      "\n",
      "False Positives(FP) =  1199\n",
      "\n",
      "False Negatives(FN) =  2864\n"
     ]
    }
   ],
   "source": [
    "from sklearn.metrics import confusion_matrix\n",
    "from sklearn.metrics import accuracy_score\n",
    "\n",
    "predicted = model.predict(data)\n",
    "bool_predicted = predicted>0.5\n",
    "\n",
    "print('LightGBM Model accuracy score: {0:0.4f}'.format(accuracy_score(labels, bool_predicted)))\n",
    "\n",
    "cm = confusion_matrix(labels, bool_predicted)\n",
    "print(cm)\n",
    "\n",
    "print('\\nTrue Positives(TP) = ', cm[0,0])\n",
    "print('\\nTrue Negatives(TN) = ', cm[1,1])\n",
    "print('\\nFalse Positives(FP) = ', cm[0,1])\n",
    "print('\\nFalse Negatives(FN) = ', cm[1,0])\n"
   ]
  },
  {
   "cell_type": "code",
   "execution_count": 12,
   "metadata": {
    "id": "rXsVt10ES3pe"
   },
   "outputs": [
    {
     "data": {
      "text/plain": [
       "<lightgbm.basic.Booster at 0x23abc9d2850>"
      ]
     },
     "execution_count": 12,
     "metadata": {},
     "output_type": "execute_result"
    }
   ],
   "source": [
    "model.save_model('saved_adult_model.txt')"
   ]
  },
  {
   "cell_type": "code",
   "execution_count": null,
   "metadata": {},
   "outputs": [],
   "source": []
  }
 ],
 "metadata": {
  "colab": {
   "collapsed_sections": [],
   "name": "lab6-model.ipynb",
   "provenance": [],
   "toc_visible": true
  },
  "kernelspec": {
   "display_name": "Python 3",
   "language": "python",
   "name": "python3"
  },
  "language_info": {
   "codemirror_mode": {
    "name": "ipython",
    "version": 3
   },
   "file_extension": ".py",
   "mimetype": "text/x-python",
   "name": "python",
   "nbconvert_exporter": "python",
   "pygments_lexer": "ipython3",
   "version": "3.8.8"
  }
 },
 "nbformat": 4,
 "nbformat_minor": 1
}
