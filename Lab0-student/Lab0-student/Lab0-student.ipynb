{
 "cells": [
  {
   "cell_type": "markdown",
   "metadata": {},
   "source": [
    "# LAB0 - Podstawy"
   ]
  },
  {
   "cell_type": "markdown",
   "metadata": {},
   "source": [
    "Przedmiot: _Sztuczna Inteligencja w Systemach Informatycznych_\n",
    "\n",
    "Autor: Tomasz Szydło\n",
    "\n",
    "kontakt: tszydlo@agh.edu.pl\n"
   ]
  },
  {
   "cell_type": "markdown",
   "metadata": {},
   "source": [
    "# Wprowadzenie\n",
    "\n",
    "Celem zajęć jest zaznajomienie się z podstawowymi technikami sotosowanymi w uczeniu maszynowym. W trakcie zajęć laboratoryjnych zostanie wykorzystany zbiór danych Irys, a następnie dla wybranych algorytmów uczenia maszynowego zostanie zidentyfikowany jeden, który cechuje się najwyższą jakością klasyfikacji.\n",
    "\n",
    "Środowisko pracy: Anaconda, Jupyter Notebook\n",
    "\n",
    "Narzędzia: Scikit Learn, Python"
   ]
  },
  {
   "cell_type": "markdown",
   "metadata": {},
   "source": [
    "## Zbiór _Iris_\n",
    "\n",
    "Zbiór danych *iris*  zawiera 150 instancji opisujących kwiaty Irysa. Kwiaty są określone przy pomocy 4 atrybutów numerycznych opisujących długości i szerokości płatków kwiatu *sepal* i *petal*. Ostatni atrybut jakościowy definiuje gatunek opisywanego Irysa (species). Jednym z problemów możliwych do rozwiązania przy użyciu tego zbioru uczącego jest określenie gatunku dla nowego kwiatu Irysa w zależności od wielkości jego płatków. Jest to przykład zadania klasyfikacji.\n",
    "\n",
    "Zbiór uczący *iris* jest zbiorem etykietowanym ponieważ klasa, czyli konkretny gatunek irysa jest znany dla każdej instancji (obiektu) w zbiorze uczącym:\n",
    "\n",
    "https://archive.ics.uci.edu/ml/datasets/iris\n",
    "\n",
    "```\n",
    "Source:\n",
    "\n",
    "Creator:\n",
    "\n",
    "R.A. Fisher\n",
    "\n",
    "Donor:\n",
    "\n",
    "Michael Marshall (MARSHALL%PLU '@' io.arc.nasa.gov)\n",
    "\n",
    "Data Set Information:\n",
    "\n",
    "This is perhaps the best known database to be found in the pattern recognition literature. Fisher's paper is a classic in the field and is referenced frequently to this day. (See Duda & Hart, for example.) The data set contains 3 classes of 50 instances each, where each class refers to a type of iris plant. One class is linearly separable from the other 2; the latter are NOT linearly separable from each other.\n",
    "\n",
    "Predicted attribute: class of iris plant.\n",
    "\n",
    "This is an exceedingly simple domain.\n",
    "\n",
    "This data differs from the data presented in Fishers article (identified by Steve Chadwick, spchadwick '@' espeedaz.net ). The 35th sample should be: 4.9,3.1,1.5,0.2,\"Iris-setosa\" where the error is in the fourth feature. The 38th sample: 4.9,3.6,1.4,0.1,\"Iris-setosa\" where the errors are in the second and third features.\n",
    "\n",
    "Attribute Information:\n",
    "\n",
    "1. sepal length in cm\n",
    "2. sepal width in cm\n",
    "3. petal length in cm\n",
    "4. petal width in cm\n",
    "5. class:\n",
    "-- Iris Setosa\n",
    "-- Iris Versicolour\n",
    "-- Iris Virginica\n",
    "```\n",
    "![](iris.png)"
   ]
  },
  {
   "cell_type": "markdown",
   "metadata": {},
   "source": [
    "# Konfiguracja wstępna"
   ]
  },
  {
   "cell_type": "code",
   "execution_count": 28,
   "metadata": {},
   "outputs": [],
   "source": [
    "# Konfiguracja interakcji z wykresami pakietu matplotlib\n",
    "\n",
    "# Standardowe rozwiązanie\n",
    "%matplotlib inline\n",
    "\n",
    "# Interaktywne wykresy - może powodować błędy\n",
    "# %matplotlib notebook"
   ]
  },
  {
   "cell_type": "code",
   "execution_count": 29,
   "metadata": {},
   "outputs": [],
   "source": [
    "# Załaduj biblioteki\n",
    "from pandas import read_csv\n",
    "from matplotlib import pyplot\n",
    "from pandas.plotting import scatter_matrix\n",
    "from sklearn.model_selection import train_test_split\n",
    "from sklearn.linear_model import LogisticRegression\n",
    "from sklearn.metrics import accuracy_score\n",
    "from sklearn.metrics import confusion_matrix\n",
    "from sklearn.metrics import classification_report\n",
    "from sklearn.neighbors import KNeighborsClassifier\n",
    "from sklearn.discriminant_analysis import LinearDiscriminantAnalysis\n",
    "from sklearn.naive_bayes import GaussianNB\n",
    "from sklearn.svm import SVC\n",
    "from sklearn.tree import DecisionTreeClassifier\n",
    "\n",
    "import numpy as np\n",
    "\n",
    "\n"
   ]
  },
  {
   "cell_type": "markdown",
   "metadata": {},
   "source": [
    "# Operacje na danych tablicowych - przykłady dla _NumPy_"
   ]
  },
  {
   "cell_type": "code",
   "execution_count": 30,
   "metadata": {},
   "outputs": [
    {
     "name": "stdout",
     "output_type": "stream",
     "text": [
      "[1 2 3]\n",
      "[[1.5 2.  3. ]\n",
      " [4.  5.  6. ]]\n",
      "[[[1.5 2.  3. ]\n",
      "  [4.  5.  6. ]]\n",
      "\n",
      " [[3.  2.  1. ]\n",
      "  [4.  5.  6. ]]]\n"
     ]
    }
   ],
   "source": [
    "# NumPy - tworzenie tablic\n",
    "\n",
    "a = np.array([1,2,3])\n",
    "b = np.array([(1.5,2,3), (4,5,6)], dtype = float)\n",
    "c = np.array([[(1.5,2,3), (4,5,6)], [(3,2,1), (4,5,6)]], dtype = float)\n",
    "\n",
    "print(a)\n",
    "print(b)\n",
    "print(c)"
   ]
  },
  {
   "cell_type": "code",
   "execution_count": 31,
   "metadata": {},
   "outputs": [
    {
     "name": "stdout",
     "output_type": "stream",
     "text": [
      "(3,)\n",
      "3\n",
      "2\n",
      "12\n",
      "float64\n",
      "float64\n",
      "[[1 2 3]\n",
      " [4 5 6]]\n"
     ]
    }
   ],
   "source": [
    "# NumPy - przeglądanie tablic\n",
    "\n",
    "print(a.shape)\n",
    "print(len(a))\n",
    "print(b.ndim)\n",
    "print(c.size)\n",
    "print(b.dtype)\n",
    "print(b.dtype.name)\n",
    "print(b.astype(int))"
   ]
  },
  {
   "cell_type": "code",
   "execution_count": 32,
   "metadata": {},
   "outputs": [
    {
     "name": "stdout",
     "output_type": "stream",
     "text": [
      "3\n",
      "6.0\n",
      "[1 2]\n",
      "[2. 5.]\n",
      "[[1.5 2.  3. ]]\n",
      "[[1.5 2.  3. ]]\n"
     ]
    }
   ],
   "source": [
    "# NumPy - subsetting\n",
    "\n",
    "print(a[2]) #wybierz element z indeksem równym 2\n",
    "print(b[1,2]) # wybierz element z pierwszego wiersza i drugiej kolumny\n",
    "\n",
    "# NumPy - slicing\n",
    "print(a[0:2])   #wybierz elementy o indeksach 0 i 1\n",
    "print(b[0:2,1]) #wybierz elementy z wiersza 0 i 1 oraz kolumny 1\n",
    "\n",
    "print(b[:1])    #wybierz elementy z wiersza 0 \n",
    "print(b[0:1,:]) #wybierz elementy z wiersza 0"
   ]
  },
  {
   "cell_type": "markdown",
   "metadata": {},
   "source": [
    "# Wczytywanie danych - biblioteka _Pandas_"
   ]
  },
  {
   "cell_type": "markdown",
   "metadata": {},
   "source": [
    "Przeanalizuj w edytorze teksotwym format i zawartośc pliku wejściowego ze zbiorem - plik _iris.csv_.\n",
    "\n",
    "_UWAGA! W przypadku błędów z odczytem danych popraw pliki zawierające dane wejściowe._"
   ]
  },
  {
   "cell_type": "code",
   "execution_count": 33,
   "metadata": {},
   "outputs": [],
   "source": [
    "filename = 'iris.csv'\n",
    "dataset = read_csv(filename)"
   ]
  },
  {
   "cell_type": "markdown",
   "metadata": {},
   "source": [
    "Wypisz rozmiar danych wejściowych."
   ]
  },
  {
   "cell_type": "code",
   "execution_count": 34,
   "metadata": {},
   "outputs": [
    {
     "name": "stdout",
     "output_type": "stream",
     "text": [
      "(150, 5)\n"
     ]
    }
   ],
   "source": [
    "print(dataset.shape)"
   ]
  },
  {
   "cell_type": "markdown",
   "metadata": {},
   "source": [
    "Sprawdź poprawność odczytania danych poprzez wypisanie pierwszych 20 wierszy."
   ]
  },
  {
   "cell_type": "code",
   "execution_count": 35,
   "metadata": {},
   "outputs": [
    {
     "data": {
      "text/html": [
       "<div>\n",
       "<style scoped>\n",
       "    .dataframe tbody tr th:only-of-type {\n",
       "        vertical-align: middle;\n",
       "    }\n",
       "\n",
       "    .dataframe tbody tr th {\n",
       "        vertical-align: top;\n",
       "    }\n",
       "\n",
       "    .dataframe thead th {\n",
       "        text-align: right;\n",
       "    }\n",
       "</style>\n",
       "<table border=\"1\" class=\"dataframe\">\n",
       "  <thead>\n",
       "    <tr style=\"text-align: right;\">\n",
       "      <th></th>\n",
       "      <th>sepal.length</th>\n",
       "      <th>sepal.width</th>\n",
       "      <th>petal.length</th>\n",
       "      <th>petal.width</th>\n",
       "      <th>variety</th>\n",
       "    </tr>\n",
       "  </thead>\n",
       "  <tbody>\n",
       "    <tr>\n",
       "      <th>0</th>\n",
       "      <td>5.1</td>\n",
       "      <td>3.5</td>\n",
       "      <td>1.4</td>\n",
       "      <td>0.2</td>\n",
       "      <td>Setosa</td>\n",
       "    </tr>\n",
       "    <tr>\n",
       "      <th>1</th>\n",
       "      <td>4.9</td>\n",
       "      <td>3.0</td>\n",
       "      <td>1.4</td>\n",
       "      <td>0.2</td>\n",
       "      <td>Setosa</td>\n",
       "    </tr>\n",
       "    <tr>\n",
       "      <th>2</th>\n",
       "      <td>4.7</td>\n",
       "      <td>3.2</td>\n",
       "      <td>1.3</td>\n",
       "      <td>0.2</td>\n",
       "      <td>Setosa</td>\n",
       "    </tr>\n",
       "    <tr>\n",
       "      <th>3</th>\n",
       "      <td>4.6</td>\n",
       "      <td>3.1</td>\n",
       "      <td>1.5</td>\n",
       "      <td>0.2</td>\n",
       "      <td>Setosa</td>\n",
       "    </tr>\n",
       "    <tr>\n",
       "      <th>4</th>\n",
       "      <td>5.0</td>\n",
       "      <td>3.6</td>\n",
       "      <td>1.4</td>\n",
       "      <td>0.2</td>\n",
       "      <td>Setosa</td>\n",
       "    </tr>\n",
       "    <tr>\n",
       "      <th>5</th>\n",
       "      <td>5.4</td>\n",
       "      <td>3.9</td>\n",
       "      <td>1.7</td>\n",
       "      <td>0.4</td>\n",
       "      <td>Setosa</td>\n",
       "    </tr>\n",
       "    <tr>\n",
       "      <th>6</th>\n",
       "      <td>4.6</td>\n",
       "      <td>3.4</td>\n",
       "      <td>1.4</td>\n",
       "      <td>0.3</td>\n",
       "      <td>Setosa</td>\n",
       "    </tr>\n",
       "    <tr>\n",
       "      <th>7</th>\n",
       "      <td>5.0</td>\n",
       "      <td>3.4</td>\n",
       "      <td>1.5</td>\n",
       "      <td>0.2</td>\n",
       "      <td>Setosa</td>\n",
       "    </tr>\n",
       "    <tr>\n",
       "      <th>8</th>\n",
       "      <td>4.4</td>\n",
       "      <td>2.9</td>\n",
       "      <td>1.4</td>\n",
       "      <td>0.2</td>\n",
       "      <td>Setosa</td>\n",
       "    </tr>\n",
       "    <tr>\n",
       "      <th>9</th>\n",
       "      <td>4.9</td>\n",
       "      <td>3.1</td>\n",
       "      <td>1.5</td>\n",
       "      <td>0.1</td>\n",
       "      <td>Setosa</td>\n",
       "    </tr>\n",
       "    <tr>\n",
       "      <th>10</th>\n",
       "      <td>5.4</td>\n",
       "      <td>3.7</td>\n",
       "      <td>1.5</td>\n",
       "      <td>0.2</td>\n",
       "      <td>Setosa</td>\n",
       "    </tr>\n",
       "    <tr>\n",
       "      <th>11</th>\n",
       "      <td>4.8</td>\n",
       "      <td>3.4</td>\n",
       "      <td>1.6</td>\n",
       "      <td>0.2</td>\n",
       "      <td>Setosa</td>\n",
       "    </tr>\n",
       "    <tr>\n",
       "      <th>12</th>\n",
       "      <td>4.8</td>\n",
       "      <td>3.0</td>\n",
       "      <td>1.4</td>\n",
       "      <td>0.1</td>\n",
       "      <td>Setosa</td>\n",
       "    </tr>\n",
       "    <tr>\n",
       "      <th>13</th>\n",
       "      <td>4.3</td>\n",
       "      <td>3.0</td>\n",
       "      <td>1.1</td>\n",
       "      <td>0.1</td>\n",
       "      <td>Setosa</td>\n",
       "    </tr>\n",
       "    <tr>\n",
       "      <th>14</th>\n",
       "      <td>5.8</td>\n",
       "      <td>4.0</td>\n",
       "      <td>1.2</td>\n",
       "      <td>0.2</td>\n",
       "      <td>Setosa</td>\n",
       "    </tr>\n",
       "    <tr>\n",
       "      <th>15</th>\n",
       "      <td>5.7</td>\n",
       "      <td>4.4</td>\n",
       "      <td>1.5</td>\n",
       "      <td>0.4</td>\n",
       "      <td>Setosa</td>\n",
       "    </tr>\n",
       "    <tr>\n",
       "      <th>16</th>\n",
       "      <td>5.4</td>\n",
       "      <td>3.9</td>\n",
       "      <td>1.3</td>\n",
       "      <td>0.4</td>\n",
       "      <td>Setosa</td>\n",
       "    </tr>\n",
       "    <tr>\n",
       "      <th>17</th>\n",
       "      <td>5.1</td>\n",
       "      <td>3.5</td>\n",
       "      <td>1.4</td>\n",
       "      <td>0.3</td>\n",
       "      <td>Setosa</td>\n",
       "    </tr>\n",
       "    <tr>\n",
       "      <th>18</th>\n",
       "      <td>5.7</td>\n",
       "      <td>3.8</td>\n",
       "      <td>1.7</td>\n",
       "      <td>0.3</td>\n",
       "      <td>Setosa</td>\n",
       "    </tr>\n",
       "    <tr>\n",
       "      <th>19</th>\n",
       "      <td>5.1</td>\n",
       "      <td>3.8</td>\n",
       "      <td>1.5</td>\n",
       "      <td>0.3</td>\n",
       "      <td>Setosa</td>\n",
       "    </tr>\n",
       "  </tbody>\n",
       "</table>\n",
       "</div>"
      ],
      "text/plain": [
       "    sepal.length  sepal.width  petal.length  petal.width variety\n",
       "0            5.1          3.5           1.4          0.2  Setosa\n",
       "1            4.9          3.0           1.4          0.2  Setosa\n",
       "2            4.7          3.2           1.3          0.2  Setosa\n",
       "3            4.6          3.1           1.5          0.2  Setosa\n",
       "4            5.0          3.6           1.4          0.2  Setosa\n",
       "5            5.4          3.9           1.7          0.4  Setosa\n",
       "6            4.6          3.4           1.4          0.3  Setosa\n",
       "7            5.0          3.4           1.5          0.2  Setosa\n",
       "8            4.4          2.9           1.4          0.2  Setosa\n",
       "9            4.9          3.1           1.5          0.1  Setosa\n",
       "10           5.4          3.7           1.5          0.2  Setosa\n",
       "11           4.8          3.4           1.6          0.2  Setosa\n",
       "12           4.8          3.0           1.4          0.1  Setosa\n",
       "13           4.3          3.0           1.1          0.1  Setosa\n",
       "14           5.8          4.0           1.2          0.2  Setosa\n",
       "15           5.7          4.4           1.5          0.4  Setosa\n",
       "16           5.4          3.9           1.3          0.4  Setosa\n",
       "17           5.1          3.5           1.4          0.3  Setosa\n",
       "18           5.7          3.8           1.7          0.3  Setosa\n",
       "19           5.1          3.8           1.5          0.3  Setosa"
      ]
     },
     "execution_count": 35,
     "metadata": {},
     "output_type": "execute_result"
    }
   ],
   "source": [
    "dataset[0:20]"
   ]
  },
  {
   "cell_type": "markdown",
   "metadata": {},
   "source": [
    "# Analiza statystyczna"
   ]
  },
  {
   "cell_type": "markdown",
   "metadata": {},
   "source": [
    "Sprawdź jaki jest przedział wartości, czy nie ma elementów znacznie odbiegających od wartości oczekiwanej. Mogłoby to sugerować błędy w danych wejściowych."
   ]
  },
  {
   "cell_type": "code",
   "execution_count": 36,
   "metadata": {},
   "outputs": [
    {
     "name": "stdout",
     "output_type": "stream",
     "text": [
      "MIN VALUES\n",
      "sepal.length       4.3\n",
      "sepal.width        2.0\n",
      "petal.length       1.0\n",
      "petal.width        0.1\n",
      "variety         Setosa\n",
      "dtype: object\n",
      "\n",
      "MAX VALUES\n",
      "sepal.length          7.9\n",
      "sepal.width           4.4\n",
      "petal.length          6.9\n",
      "petal.width           2.5\n",
      "variety         Virginica\n",
      "dtype: object\n"
     ]
    }
   ],
   "source": [
    "# descriptions\n",
    "print(\"MIN VALUES\")\n",
    "print(dataset.min())\n",
    "print(\"\\nMAX VALUES\")\n",
    "print(dataset.max())"
   ]
  },
  {
   "cell_type": "markdown",
   "metadata": {},
   "source": [
    "Sprawdź czy licznośc klas wynikowych jest zbliżona. Występowanie znacznych dysproporcji może skutkować błędnym wyuczeniem modelu."
   ]
  },
  {
   "cell_type": "code",
   "execution_count": 37,
   "metadata": {},
   "outputs": [
    {
     "name": "stdout",
     "output_type": "stream",
     "text": [
      "variety\n",
      "Setosa        50\n",
      "Versicolor    50\n",
      "Virginica     50\n",
      "dtype: int64\n"
     ]
    }
   ],
   "source": [
    "# class distribution\n",
    "print(dataset.groupby('variety').size())"
   ]
  },
  {
   "cell_type": "markdown",
   "metadata": {},
   "source": [
    "# Wizualizacja danych"
   ]
  },
  {
   "cell_type": "markdown",
   "metadata": {},
   "source": [
    "Narysuj wykresy przedstawiające dane wejściowe."
   ]
  },
  {
   "cell_type": "code",
   "execution_count": 38,
   "metadata": {},
   "outputs": [
    {
     "data": {
      "image/png": "[encoded data removed]",
      "text/plain": [
       "<Figure size 432x288 with 4 Axes>"
      ]
     },
     "metadata": {
      "needs_background": "light"
     },
     "output_type": "display_data"
    }
   ],
   "source": [
    "dataset.hist()\n",
    "pyplot.show()"
   ]
  },
  {
   "cell_type": "code",
   "execution_count": 39,
   "metadata": {},
   "outputs": [
    {
     "data": {
      "image/png": "[encoded data removed]",
      "text/plain": [
       "<Figure size 432x288 with 4 Axes>"
      ]
     },
     "metadata": {
      "needs_background": "light"
     },
     "output_type": "display_data"
    }
   ],
   "source": [
    "dataset.plot(kind='box', subplots=True, layout=(2,2), sharex=False, sharey=False)\n",
    "pyplot.show()"
   ]
  },
  {
   "cell_type": "code",
   "execution_count": 40,
   "metadata": {},
   "outputs": [
    {
     "data": {
      "image/png": "[encoded data removed]",
      "text/plain": [
       "<Figure size 432x288 with 16 Axes>"
      ]
     },
     "metadata": {
      "needs_background": "light"
     },
     "output_type": "display_data"
    }
   ],
   "source": [
    "scatter_matrix(dataset)\n",
    "pyplot.show()"
   ]
  },
  {
   "cell_type": "markdown",
   "metadata": {},
   "source": [
    "# Ewaluacja wybranego algorytmu ML"
   ]
  },
  {
   "cell_type": "markdown",
   "metadata": {},
   "source": [
    "Na potrzeby klasyfikacji irysów zdecydowano się wykorzystać model ML bazujący ba regresji logistycznej. W procesie uczenia wykrozystamy dwa zbiory danych - treningowy oraz testowy z podziałem 20%/80%."
   ]
  },
  {
   "cell_type": "markdown",
   "metadata": {},
   "source": [
    "Stwórz dwie tablice:\n",
    " - X składającą się z 4 kolumn - cechy wejściowe\n",
    " - Y składającą się z 1 kolumny - etykiety klasy dla zbioru uczącego"
   ]
  },
  {
   "cell_type": "code",
   "execution_count": 41,
   "metadata": {},
   "outputs": [],
   "source": [
    "array = dataset.values\n",
    "np.random.shuffle(array)\n",
    "X = array[:,0:4]\n",
    "Y = array[:,4]"
   ]
  },
  {
   "cell_type": "markdown",
   "metadata": {},
   "source": [
    "Wypisz tablice aby sprawdzić ich poprawność."
   ]
  },
  {
   "cell_type": "code",
   "execution_count": 42,
   "metadata": {
    "scrolled": false
   },
   "outputs": [
    {
     "name": "stdout",
     "output_type": "stream",
     "text": [
      "(150, 4)\n",
      "[[6.5 3.2 5.1 2.0]\n",
      " [5.8 2.7 5.1 1.9]\n",
      " [7.2 3.6 6.1 2.5]\n",
      " [5.0 3.5 1.3 0.3]\n",
      " [5.1 3.4 1.5 0.2]\n",
      " [5.7 2.9 4.2 1.3]\n",
      " [6.4 3.1 5.5 1.8]\n",
      " [6.7 3.1 4.7 1.5]\n",
      " [6.3 2.3 4.4 1.3]\n",
      " [4.3 3.0 1.1 0.1]\n",
      " [6.4 2.9 4.3 1.3]\n",
      " [6.8 3.0 5.5 2.1]\n",
      " [5.5 2.5 4.0 1.3]\n",
      " [5.4 3.7 1.5 0.2]\n",
      " [4.6 3.2 1.4 0.2]\n",
      " [5.4 3.9 1.7 0.4]\n",
      " [4.9 3.1 1.5 0.1]\n",
      " [5.1 3.7 1.5 0.4]\n",
      " [5.0 3.3 1.4 0.2]\n",
      " [7.6 3.0 6.6 2.1]\n",
      " [4.8 3.0 1.4 0.1]\n",
      " [4.9 3.6 1.4 0.1]\n",
      " [4.9 2.4 3.3 1.0]\n",
      " [7.7 2.8 6.7 2.0]\n",
      " [6.1 2.8 4.0 1.3]\n",
      " [5.1 3.8 1.6 0.2]\n",
      " [7.7 2.6 6.9 2.3]\n",
      " [6.0 2.2 4.0 1.0]\n",
      " [6.3 3.4 5.6 2.4]\n",
      " [4.6 3.6 1.0 0.2]\n",
      " [5.0 2.0 3.5 1.0]\n",
      " [5.2 2.7 3.9 1.4]\n",
      " [4.9 3.1 1.5 0.2]\n",
      " [5.1 3.5 1.4 0.3]\n",
      " [5.6 2.7 4.2 1.3]\n",
      " [4.8 3.4 1.6 0.2]\n",
      " [4.4 2.9 1.4 0.2]\n",
      " [5.1 3.8 1.5 0.3]\n",
      " [6.3 2.7 4.9 1.8]\n",
      " [6.2 2.9 4.3 1.3]\n",
      " [6.9 3.1 5.1 2.3]\n",
      " [5.2 3.4 1.4 0.2]\n",
      " [6.3 2.8 5.1 1.5]\n",
      " [6.4 2.8 5.6 2.2]\n",
      " [6.3 2.5 4.9 1.5]\n",
      " [6.6 3.0 4.4 1.4]\n",
      " [5.7 4.4 1.5 0.4]\n",
      " [6.1 2.6 5.6 1.4]\n",
      " [6.4 2.7 5.3 1.9]\n",
      " [5.7 2.8 4.5 1.3]\n",
      " [7.1 3.0 5.9 2.1]\n",
      " [5.0 3.6 1.4 0.2]\n",
      " [5.5 3.5 1.3 0.2]\n",
      " [5.4 3.4 1.7 0.2]\n",
      " [6.8 2.8 4.8 1.4]\n",
      " [6.3 2.9 5.6 1.8]\n",
      " [7.2 3.2 6.0 1.8]\n",
      " [5.0 3.4 1.5 0.2]\n",
      " [6.1 3.0 4.9 1.8]\n",
      " [6.5 3.0 5.2 2.0]\n",
      " [5.5 4.2 1.4 0.2]\n",
      " [5.4 3.0 4.5 1.5]\n",
      " [5.5 2.6 4.4 1.2]\n",
      " [5.0 2.3 3.3 1.0]\n",
      " [6.3 3.3 4.7 1.6]\n",
      " [5.9 3.0 5.1 1.8]\n",
      " [5.0 3.2 1.2 0.2]\n",
      " [5.7 3.8 1.7 0.3]\n",
      " [5.6 3.0 4.1 1.3]\n",
      " [5.6 2.5 3.9 1.1]\n",
      " [5.7 2.8 4.1 1.3]\n",
      " [5.0 3.5 1.6 0.6]\n",
      " [6.4 3.2 4.5 1.5]\n",
      " [6.7 3.3 5.7 2.1]\n",
      " [5.4 3.4 1.5 0.4]\n",
      " [5.9 3.0 4.2 1.5]\n",
      " [5.5 2.4 3.8 1.1]\n",
      " [5.0 3.4 1.6 0.4]\n",
      " [4.7 3.2 1.3 0.2]\n",
      " [6.1 2.9 4.7 1.4]\n",
      " [5.2 4.1 1.5 0.1]\n",
      " [6.8 3.2 5.9 2.3]\n",
      " [5.7 3.0 4.2 1.2]\n",
      " [4.5 2.3 1.3 0.3]\n",
      " [4.8 3.4 1.9 0.2]\n",
      " [6.7 2.5 5.8 1.8]\n",
      " [5.5 2.4 3.7 1.0]\n",
      " [5.2 3.5 1.5 0.2]\n",
      " [5.8 2.8 5.1 2.4]\n",
      " [5.8 2.7 5.1 1.9]\n",
      " [6.4 2.8 5.6 2.1]\n",
      " [4.6 3.1 1.5 0.2]\n",
      " [5.5 2.3 4.0 1.3]\n",
      " [7.3 2.9 6.3 1.8]\n",
      " [6.9 3.2 5.7 2.3]\n",
      " [5.6 2.9 3.6 1.3]\n",
      " [6.7 3.3 5.7 2.5]\n",
      " [6.7 3.1 4.4 1.4]\n",
      " [4.7 3.2 1.6 0.2]\n",
      " [5.8 4.0 1.2 0.2]\n",
      " [7.9 3.8 6.4 2.0]\n",
      " [5.1 3.3 1.7 0.5]\n",
      " [5.1 3.8 1.9 0.4]\n",
      " [6.0 2.2 5.0 1.5]\n",
      " [4.4 3.0 1.3 0.2]\n",
      " [5.8 2.7 3.9 1.2]\n",
      " [6.9 3.1 5.4 2.1]\n",
      " [6.7 3.1 5.6 2.4]\n",
      " [6.0 2.7 5.1 1.6]\n",
      " [5.3 3.7 1.5 0.2]\n",
      " [4.8 3.1 1.6 0.2]\n",
      " [6.5 2.8 4.6 1.5]\n",
      " [4.8 3.0 1.4 0.3]\n",
      " [7.7 3.0 6.1 2.3]\n",
      " [6.6 2.9 4.6 1.3]\n",
      " [6.5 3.0 5.8 2.2]\n",
      " [5.4 3.9 1.3 0.4]\n",
      " [5.7 2.6 3.5 1.0]\n",
      " [6.3 2.5 5.0 1.9]\n",
      " [6.3 3.3 6.0 2.5]\n",
      " [5.9 3.2 4.8 1.8]\n",
      " [6.7 3.0 5.2 2.3]\n",
      " [6.0 2.9 4.5 1.5]\n",
      " [5.1 2.5 3.0 1.1]\n",
      " [6.0 3.4 4.5 1.6]\n",
      " [4.4 3.2 1.3 0.2]\n",
      " [5.8 2.7 4.1 1.0]\n",
      " [5.1 3.5 1.4 0.2]\n",
      " [5.8 2.6 4.0 1.2]\n",
      " [6.2 3.4 5.4 2.3]\n",
      " [7.0 3.2 4.7 1.4]\n",
      " [6.0 3.0 4.8 1.8]\n",
      " [6.2 2.8 4.8 1.8]\n",
      " [7.7 3.8 6.7 2.2]\n",
      " [6.9 3.1 4.9 1.5]\n",
      " [6.2 2.2 4.5 1.5]\n",
      " [5.6 2.8 4.9 2.0]\n",
      " [4.9 3.0 1.4 0.2]\n",
      " [6.4 3.2 5.3 2.3]\n",
      " [7.4 2.8 6.1 1.9]\n",
      " [6.5 3.0 5.5 1.8]\n",
      " [4.9 2.5 4.5 1.7]\n",
      " [5.0 3.0 1.6 0.2]\n",
      " [5.6 3.0 4.5 1.5]\n",
      " [6.1 2.8 4.7 1.2]\n",
      " [6.7 3.0 5.0 1.7]\n",
      " [5.7 2.5 5.0 2.0]\n",
      " [6.1 3.0 4.6 1.4]\n",
      " [7.2 3.0 5.8 1.6]\n",
      " [4.6 3.4 1.4 0.3]]\n",
      "(150,)\n",
      "['Virginica' 'Virginica' 'Virginica' 'Setosa' 'Setosa' 'Versicolor'\n",
      " 'Virginica' 'Versicolor' 'Versicolor' 'Setosa' 'Versicolor' 'Virginica'\n",
      " 'Versicolor' 'Setosa' 'Setosa' 'Setosa' 'Setosa' 'Setosa' 'Setosa'\n",
      " 'Virginica' 'Setosa' 'Setosa' 'Versicolor' 'Virginica' 'Versicolor'\n",
      " 'Setosa' 'Virginica' 'Versicolor' 'Virginica' 'Setosa' 'Versicolor'\n",
      " 'Versicolor' 'Setosa' 'Setosa' 'Versicolor' 'Setosa' 'Setosa' 'Setosa'\n",
      " 'Virginica' 'Versicolor' 'Virginica' 'Setosa' 'Virginica' 'Virginica'\n",
      " 'Versicolor' 'Versicolor' 'Setosa' 'Virginica' 'Virginica' 'Versicolor'\n",
      " 'Virginica' 'Setosa' 'Setosa' 'Setosa' 'Versicolor' 'Virginica'\n",
      " 'Virginica' 'Setosa' 'Virginica' 'Virginica' 'Setosa' 'Versicolor'\n",
      " 'Versicolor' 'Versicolor' 'Versicolor' 'Virginica' 'Setosa' 'Setosa'\n",
      " 'Versicolor' 'Versicolor' 'Versicolor' 'Setosa' 'Versicolor' 'Virginica'\n",
      " 'Setosa' 'Versicolor' 'Versicolor' 'Setosa' 'Setosa' 'Versicolor'\n",
      " 'Setosa' 'Virginica' 'Versicolor' 'Setosa' 'Setosa' 'Virginica'\n",
      " 'Versicolor' 'Setosa' 'Virginica' 'Virginica' 'Virginica' 'Setosa'\n",
      " 'Versicolor' 'Virginica' 'Virginica' 'Versicolor' 'Virginica'\n",
      " 'Versicolor' 'Setosa' 'Setosa' 'Virginica' 'Setosa' 'Setosa' 'Virginica'\n",
      " 'Setosa' 'Versicolor' 'Virginica' 'Virginica' 'Versicolor' 'Setosa'\n",
      " 'Setosa' 'Versicolor' 'Setosa' 'Virginica' 'Versicolor' 'Virginica'\n",
      " 'Setosa' 'Versicolor' 'Virginica' 'Virginica' 'Versicolor' 'Virginica'\n",
      " 'Versicolor' 'Versicolor' 'Versicolor' 'Setosa' 'Versicolor' 'Setosa'\n",
      " 'Versicolor' 'Virginica' 'Versicolor' 'Virginica' 'Virginica' 'Virginica'\n",
      " 'Versicolor' 'Versicolor' 'Virginica' 'Setosa' 'Virginica' 'Virginica'\n",
      " 'Virginica' 'Virginica' 'Setosa' 'Versicolor' 'Versicolor' 'Versicolor'\n",
      " 'Virginica' 'Versicolor' 'Virginica' 'Setosa']\n"
     ]
    }
   ],
   "source": [
    "print(X.shape)\n",
    "print(X)\n",
    "\n",
    "print(Y.shape)\n",
    "print(Y)"
   ]
  },
  {
   "cell_type": "markdown",
   "metadata": {},
   "source": [
    "Stwórz zbiór uczący i testowy z podziałem 80%/20%."
   ]
  },
  {
   "cell_type": "code",
   "execution_count": 44,
   "metadata": {},
   "outputs": [],
   "source": [
    "import math\n",
    "validation_size = 0.20\n",
    "seed = 7\n",
    "\n",
    "X_train, X_test, Y_train, Y_test = train_test_split(X, Y, test_size=math.ceil(0.20*X.shape[0]))"
   ]
  },
  {
   "cell_type": "markdown",
   "metadata": {},
   "source": [
    "Naucz model, a następnie sprawdź jego skuteczność."
   ]
  },
  {
   "cell_type": "code",
   "execution_count": 45,
   "metadata": {},
   "outputs": [
    {
     "name": "stdout",
     "output_type": "stream",
     "text": [
      "1.0\n",
      "[[ 6  0  0]\n",
      " [ 0 14  0]\n",
      " [ 0  0 10]]\n",
      "              precision    recall  f1-score   support\n",
      "\n",
      "      Setosa       1.00      1.00      1.00         6\n",
      "  Versicolor       1.00      1.00      1.00        14\n",
      "   Virginica       1.00      1.00      1.00        10\n",
      "\n",
      "    accuracy                           1.00        30\n",
      "   macro avg       1.00      1.00      1.00        30\n",
      "weighted avg       1.00      1.00      1.00        30\n",
      "\n"
     ]
    }
   ],
   "source": [
    "klr = LogisticRegression(max_iter=2000)\n",
    "klr.fit(X_train, Y_train)\n",
    "predictions = klr.predict(X_test)\n",
    "\n",
    "print(accuracy_score(Y_test, predictions))\n",
    "print(confusion_matrix(Y_test, predictions))\n",
    "print(classification_report(Y_test, predictions))"
   ]
  },
  {
   "cell_type": "markdown",
   "metadata": {},
   "source": [
    "# Wybór najlepszego algorytmu ML dla zadanego problemu"
   ]
  },
  {
   "cell_type": "markdown",
   "metadata": {},
   "source": [
    "Sprawdź skuteczność innych modeli ML w problemie klasyfikacji Irysów. Jako miarę jakości klasyfikacji wybierz _accuracy_score_. Wyniki skuteczności ich działania przedstaw na wykresie.\n",
    "\n",
    "Przeanalizuj metody:\n",
    "- LogisticRegression()\n",
    "- KNeighborsClassifier()\n",
    "- DecisionTreeClassifier()\n",
    "- SVC()\n",
    "- GaussianNB()\n",
    "\n",
    "Lista dostępnych algorytmów w bibliotece _scikit-learn_:\n",
    "https://scikit-learn.org/stable/modules/multiclass.html#multiclass\n",
    "\n",
    "Dla wybranej metody wylicz wskaźniki jakościowe dotyczące predykcji."
   ]
  },
  {
   "cell_type": "code",
   "execution_count": 54,
   "metadata": {},
   "outputs": [],
   "source": [
    "names = [\"LR\", \"KN\", \"DTC\", \"SVC\", \"Gaussian\"]\n",
    "functions = [LogisticRegression, KNeighborsClassifier, DecisionTreeClassifier, SVC, GaussianNB]\n",
    "results = []\n",
    "def do(f):\n",
    "    klr = f()\n",
    "    klr.fit(X_train, Y_train)\n",
    "    predictions = klr.predict(X_test)\n",
    "    return accuracy_score(Y_test, predictions)\n",
    "\n",
    "for f in functions:\n",
    "    results.append(do(f))   "
   ]
  },
  {
   "cell_type": "code",
   "execution_count": 56,
   "metadata": {},
   "outputs": [
    {
     "name": "stdout",
     "output_type": "stream",
     "text": [
      "['LR', 'KN', 'DTC', 'SVC', 'Gaussian']\n",
      "[1.0, 0.9333333333333333, 0.9666666666666667, 1.0, 0.9666666666666667]\n"
     ]
    }
   ],
   "source": [
    "print(names)\n",
    "print(results)"
   ]
  },
  {
   "cell_type": "code",
   "execution_count": 57,
   "metadata": {},
   "outputs": [
    {
     "data": {
      "text/plain": [
       "<BarContainer object of 5 artists>"
      ]
     },
     "execution_count": 57,
     "metadata": {},
     "output_type": "execute_result"
    },
    {
     "data": {
      "image/png": "[encoded data removed]",
      "text/plain": [
       "<Figure size 432x288 with 1 Axes>"
      ]
     },
     "metadata": {
      "needs_background": "light"
     },
     "output_type": "display_data"
    }
   ],
   "source": [
    "pyplot.bar(names,results)\n"
   ]
  },
  {
   "cell_type": "markdown",
   "metadata": {},
   "source": [
    "Policz skuteczność najlepszego modelu."
   ]
  },
  {
   "cell_type": "code",
   "execution_count": 58,
   "metadata": {},
   "outputs": [
    {
     "name": "stdout",
     "output_type": "stream",
     "text": [
      "1.0\n",
      "[[ 6  0  0]\n",
      " [ 0 14  0]\n",
      " [ 0  0 10]]\n",
      "              precision    recall  f1-score   support\n",
      "\n",
      "      Setosa       1.00      1.00      1.00         6\n",
      "  Versicolor       1.00      1.00      1.00        14\n",
      "   Virginica       1.00      1.00      1.00        10\n",
      "\n",
      "    accuracy                           1.00        30\n",
      "   macro avg       1.00      1.00      1.00        30\n",
      "weighted avg       1.00      1.00      1.00        30\n",
      "\n"
     ]
    }
   ],
   "source": [
    "best = DecisionTreeClassifier()\n",
    "best.fit(X_train, Y_train)\n",
    "predictions = klr.predict(X_test)\n",
    "\n",
    "print(accuracy_score(Y_test, predictions))\n",
    "print(confusion_matrix(Y_test, predictions))\n",
    "print(classification_report(Y_test, predictions))"
   ]
  },
  {
   "cell_type": "markdown",
   "metadata": {},
   "source": [
    "# Podsumowanie\n",
    "\n",
    "1. Jaki problem ML występował w zadaniu? Problem klasyfikacji zdjęć irysa do jego konkretnych gatunków.\n",
    "\n",
    "2. Jak się rozkłada liczność klas wynikowych? Mamy trzy klasy wynikowe, wszystkie występujące po 50 razy w wejściowym datasecie.\n",
    "\n",
    "3. Jakie algorytmy ML były rozważane? K-najbliższych sąsiadów, SVC, regresji logistycznej, drzewa decyzyjne, Gaussian Naive Bayes.\n",
    "\n",
    "4. Który z algorytmów cechował się najwyższą skutecznością? Decision Tree Classifier.\n",
    "\n"
   ]
  },
  {
   "cell_type": "code",
   "execution_count": null,
   "metadata": {},
   "outputs": [],
   "source": []
  }
 ],
 "metadata": {
  "kernelspec": {
   "display_name": "Python 3",
   "language": "python",
   "name": "python3"
  },
  "language_info": {
   "codemirror_mode": {
    "name": "ipython",
    "version": 3
   },
   "file_extension": ".py",
   "mimetype": "text/x-python",
   "name": "python",
   "nbconvert_exporter": "python",
   "pygments_lexer": "ipython3",
   "version": "3.8.8"
  }
 },
 "nbformat": 4,
 "nbformat_minor": 2
}
